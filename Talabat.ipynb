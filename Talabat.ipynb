import pandas as pd

from selenium import webdriver
from selenium.webdriver.support.select import Select
import time
from selenium.webdriver.support.ui import Select

PATH = (r"C:\Users\M.MUZHEIR AHMED\Program Files (x86)\chromedriver_win32\chromedriver.exe")

driver = webdriver.Chrome(PATH)
driver.get("https://www.talabat.com/uae/restaurant/621133/ginos-deli-jlt?aid=1308")
df = pd.DataFrame({'Name':[],'Cusinie':[],'Logo':[], 'MenuItem' :[], 'Description': [], 'ItemPrice' :[],'ItemLogo' :[]})

ResName = driver.find_element_by_css_selector('h1.media-heading')
print(ResName.text)
ResCus = driver.find_element_by_xpath('//*[@id="__next"]/div[4]/div[1]/div/div/div[2]/div[2]/div/div[1]/div/div/div[2]/div[1]/p')
print(ResCus.text)
ResLogo= driver.find_element_by_xpath('//*[@id="__next"]/div[4]/div[1]/div/div/div[2]/div[2]/div/div[1]/div/a/div/img')
link = ResLogo.get_attribute('src')
print(link)

menuItems = driver.find_elements_by_css_selector('div.menu-itemstyles__MenuItemContainer-sc-wyx6cl-0')
print(len(menuItems))

for i in range(len(menuItems)):
    menuItems = driver.find_elements_by_css_selector('div.menu-itemstyles__MenuItemContainer-sc-wyx6cl-0')
    item = menuItems[i]
    itemName = item.find_element_by_css_selector('div.f-15')
    itemDesc = item.find_element_by_css_selector('div.f-12.description')
    itemPrice = item.find_element_by_css_selector('div.mb-m-1')
    itemImage = item.find_element_by_tag_name('img')
    itemImageLink = itemImage.get_attribute('src')

    print(itemName.text)
    print(itemDesc.text)
    print(itemPrice.text)
    print(itemImageLink)
    
    df_row = {'Name': ResName.text,'Cusinie': ResCus.text,'Logo': link, 'MenuItem' : itemName.text, 'Description': itemDesc.text, 'ItemPrice' :itemPrice.text,'ItemLogo' : itemImageLink}
    df = df.append(df_row, ignore_index=True)
